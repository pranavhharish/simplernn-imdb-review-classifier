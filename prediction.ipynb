{
 "cells": [
  {
   "cell_type": "code",
   "execution_count": 1,
   "id": "3bdaf016",
   "metadata": {},
   "outputs": [],
   "source": [
    "# Step 1: Import Libraries and Load the Model\n",
    "import numpy as np\n",
    "import tensorflow as tf\n",
    "from tensorflow.keras.datasets import imdb\n",
    "from tensorflow.keras.preprocessing import sequence\n",
    "from tensorflow.keras.models import load_model"
   ]
  },
  {
   "cell_type": "code",
   "execution_count": 2,
   "id": "bc3dadb3",
   "metadata": {},
   "outputs": [],
   "source": [
    "\n",
    "# Load the IMDB dataset word index\n",
    "word_index = imdb.get_word_index()\n",
    "reverse_word_index = {value: key for key, value in word_index.items()}"
   ]
  },
  {
   "cell_type": "code",
   "execution_count": 3,
   "id": "e70e5739",
   "metadata": {},
   "outputs": [
    {
     "name": "stderr",
     "output_type": "stream",
     "text": [
      "WARNING:absl:Compiled the loaded model, but the compiled metrics have yet to be built. `model.compile_metrics` will be empty until you train or evaluate the model.\n"
     ]
    },
    {
     "data": {
      "text/html": [
       "<pre style=\"white-space:pre;overflow-x:auto;line-height:normal;font-family:Menlo,'DejaVu Sans Mono',consolas,'Courier New',monospace\"><span style=\"font-weight: bold\">Model: \"sequential_1\"</span>\n",
       "</pre>\n"
      ],
      "text/plain": [
       "\u001b[1mModel: \"sequential_1\"\u001b[0m\n"
      ]
     },
     "metadata": {},
     "output_type": "display_data"
    },
    {
     "data": {
      "text/html": [
       "<pre style=\"white-space:pre;overflow-x:auto;line-height:normal;font-family:Menlo,'DejaVu Sans Mono',consolas,'Courier New',monospace\">┏━━━━━━━━━━━━━━━━━━━━━━━━━━━━━━━━━┳━━━━━━━━━━━━━━━━━━━━━━━━┳━━━━━━━━━━━━━━━┓\n",
       "┃<span style=\"font-weight: bold\"> Layer (type)                    </span>┃<span style=\"font-weight: bold\"> Output Shape           </span>┃<span style=\"font-weight: bold\">       Param # </span>┃\n",
       "┡━━━━━━━━━━━━━━━━━━━━━━━━━━━━━━━━━╇━━━━━━━━━━━━━━━━━━━━━━━━╇━━━━━━━━━━━━━━━┩\n",
       "│ embedding_1 (<span style=\"color: #0087ff; text-decoration-color: #0087ff\">Embedding</span>)         │ (<span style=\"color: #00af00; text-decoration-color: #00af00\">32</span>, <span style=\"color: #00af00; text-decoration-color: #00af00\">500</span>, <span style=\"color: #00af00; text-decoration-color: #00af00\">128</span>)         │     <span style=\"color: #00af00; text-decoration-color: #00af00\">1,280,000</span> │\n",
       "├─────────────────────────────────┼────────────────────────┼───────────────┤\n",
       "│ simple_rnn_1 (<span style=\"color: #0087ff; text-decoration-color: #0087ff\">SimpleRNN</span>)        │ (<span style=\"color: #00af00; text-decoration-color: #00af00\">32</span>, <span style=\"color: #00af00; text-decoration-color: #00af00\">128</span>)              │        <span style=\"color: #00af00; text-decoration-color: #00af00\">32,896</span> │\n",
       "├─────────────────────────────────┼────────────────────────┼───────────────┤\n",
       "│ dense_1 (<span style=\"color: #0087ff; text-decoration-color: #0087ff\">Dense</span>)                 │ (<span style=\"color: #00af00; text-decoration-color: #00af00\">32</span>, <span style=\"color: #00af00; text-decoration-color: #00af00\">1</span>)                │           <span style=\"color: #00af00; text-decoration-color: #00af00\">129</span> │\n",
       "└─────────────────────────────────┴────────────────────────┴───────────────┘\n",
       "</pre>\n"
      ],
      "text/plain": [
       "┏━━━━━━━━━━━━━━━━━━━━━━━━━━━━━━━━━┳━━━━━━━━━━━━━━━━━━━━━━━━┳━━━━━━━━━━━━━━━┓\n",
       "┃\u001b[1m \u001b[0m\u001b[1mLayer (type)                   \u001b[0m\u001b[1m \u001b[0m┃\u001b[1m \u001b[0m\u001b[1mOutput Shape          \u001b[0m\u001b[1m \u001b[0m┃\u001b[1m \u001b[0m\u001b[1m      Param #\u001b[0m\u001b[1m \u001b[0m┃\n",
       "┡━━━━━━━━━━━━━━━━━━━━━━━━━━━━━━━━━╇━━━━━━━━━━━━━━━━━━━━━━━━╇━━━━━━━━━━━━━━━┩\n",
       "│ embedding_1 (\u001b[38;5;33mEmbedding\u001b[0m)         │ (\u001b[38;5;34m32\u001b[0m, \u001b[38;5;34m500\u001b[0m, \u001b[38;5;34m128\u001b[0m)         │     \u001b[38;5;34m1,280,000\u001b[0m │\n",
       "├─────────────────────────────────┼────────────────────────┼───────────────┤\n",
       "│ simple_rnn_1 (\u001b[38;5;33mSimpleRNN\u001b[0m)        │ (\u001b[38;5;34m32\u001b[0m, \u001b[38;5;34m128\u001b[0m)              │        \u001b[38;5;34m32,896\u001b[0m │\n",
       "├─────────────────────────────────┼────────────────────────┼───────────────┤\n",
       "│ dense_1 (\u001b[38;5;33mDense\u001b[0m)                 │ (\u001b[38;5;34m32\u001b[0m, \u001b[38;5;34m1\u001b[0m)                │           \u001b[38;5;34m129\u001b[0m │\n",
       "└─────────────────────────────────┴────────────────────────┴───────────────┘\n"
      ]
     },
     "metadata": {},
     "output_type": "display_data"
    },
    {
     "data": {
      "text/html": [
       "<pre style=\"white-space:pre;overflow-x:auto;line-height:normal;font-family:Menlo,'DejaVu Sans Mono',consolas,'Courier New',monospace\"><span style=\"font-weight: bold\"> Total params: </span><span style=\"color: #00af00; text-decoration-color: #00af00\">1,313,027</span> (5.01 MB)\n",
       "</pre>\n"
      ],
      "text/plain": [
       "\u001b[1m Total params: \u001b[0m\u001b[38;5;34m1,313,027\u001b[0m (5.01 MB)\n"
      ]
     },
     "metadata": {},
     "output_type": "display_data"
    },
    {
     "data": {
      "text/html": [
       "<pre style=\"white-space:pre;overflow-x:auto;line-height:normal;font-family:Menlo,'DejaVu Sans Mono',consolas,'Courier New',monospace\"><span style=\"font-weight: bold\"> Trainable params: </span><span style=\"color: #00af00; text-decoration-color: #00af00\">1,313,025</span> (5.01 MB)\n",
       "</pre>\n"
      ],
      "text/plain": [
       "\u001b[1m Trainable params: \u001b[0m\u001b[38;5;34m1,313,025\u001b[0m (5.01 MB)\n"
      ]
     },
     "metadata": {},
     "output_type": "display_data"
    },
    {
     "data": {
      "text/html": [
       "<pre style=\"white-space:pre;overflow-x:auto;line-height:normal;font-family:Menlo,'DejaVu Sans Mono',consolas,'Courier New',monospace\"><span style=\"font-weight: bold\"> Non-trainable params: </span><span style=\"color: #00af00; text-decoration-color: #00af00\">0</span> (0.00 B)\n",
       "</pre>\n"
      ],
      "text/plain": [
       "\u001b[1m Non-trainable params: \u001b[0m\u001b[38;5;34m0\u001b[0m (0.00 B)\n"
      ]
     },
     "metadata": {},
     "output_type": "display_data"
    },
    {
     "data": {
      "text/html": [
       "<pre style=\"white-space:pre;overflow-x:auto;line-height:normal;font-family:Menlo,'DejaVu Sans Mono',consolas,'Courier New',monospace\"><span style=\"font-weight: bold\"> Optimizer params: </span><span style=\"color: #00af00; text-decoration-color: #00af00\">2</span> (12.00 B)\n",
       "</pre>\n"
      ],
      "text/plain": [
       "\u001b[1m Optimizer params: \u001b[0m\u001b[38;5;34m2\u001b[0m (12.00 B)\n"
      ]
     },
     "metadata": {},
     "output_type": "display_data"
    }
   ],
   "source": [
    "# Load the pre-trained model with ReLU activation\n",
    "model = load_model('simple_rnn_imdb.h5')\n",
    "model.summary()"
   ]
  },
  {
   "cell_type": "code",
   "execution_count": 4,
   "id": "61dbbb2e",
   "metadata": {},
   "outputs": [
    {
     "data": {
      "text/plain": [
       "[array([[ 0.7232297 , -0.05860982,  0.65345365, ...,  0.06992532,\n",
       "         -0.18096323,  0.7801659 ],\n",
       "        [ 0.09311681,  0.01589006,  0.09171104, ...,  0.04578327,\n",
       "         -0.03444502,  0.13837315],\n",
       "        [ 0.13124977,  0.03687644,  0.07367823, ...,  0.05077175,\n",
       "         -0.0139143 ,  0.08762976],\n",
       "        ...,\n",
       "        [ 0.01639416,  0.06453919, -0.0365295 , ..., -0.06716785,\n",
       "          0.02503209,  0.05620827],\n",
       "        [ 0.07473327,  0.05477993,  0.02729565, ...,  0.05286451,\n",
       "         -0.00252763, -0.03489819],\n",
       "        [-0.04796023,  0.02743745, -0.04280425, ..., -0.05307667,\n",
       "          0.08100476, -0.03096042]], dtype=float32),\n",
       " array([[-0.11080162,  0.09111951, -0.11952319, ...,  0.10501955,\n",
       "          0.07946005, -0.16802697],\n",
       "        [-0.11188753, -0.20757961, -0.1385692 , ...,  0.04273825,\n",
       "         -0.10519598,  0.01793391],\n",
       "        [ 0.05155926,  0.16634841, -0.0128571 , ..., -0.07134003,\n",
       "          0.05780539,  0.04857248],\n",
       "        ...,\n",
       "        [-0.07641207, -0.04580835, -0.0428729 , ..., -0.09012828,\n",
       "         -0.03120511, -0.08262108],\n",
       "        [-0.07782777,  0.0635093 , -0.09024808, ..., -0.0926749 ,\n",
       "         -0.07059079, -0.03873446],\n",
       "        [-0.13324441,  0.07521077, -0.15602836, ...,  0.1473659 ,\n",
       "          0.08077537, -0.04820701]], dtype=float32),\n",
       " array([[-0.08609366,  0.11907157, -0.05368733, ...,  0.0300321 ,\n",
       "          0.03400761, -0.09382678],\n",
       "        [ 0.00542841, -0.07749212, -0.10486002, ...,  0.04892344,\n",
       "         -0.13540834, -0.17660958],\n",
       "        [-0.12161954,  0.00434477, -0.05982298, ...,  0.03692604,\n",
       "         -0.00120915, -0.03562653],\n",
       "        ...,\n",
       "        [ 0.08780669, -0.06314909,  0.06135795, ...,  0.09289853,\n",
       "          0.00897048, -0.01526599],\n",
       "        [-0.04516196, -0.010971  , -0.01206524, ..., -0.09880822,\n",
       "          0.09925349, -0.03734627],\n",
       "        [ 0.05477874,  0.01474007, -0.04802889, ..., -0.03995786,\n",
       "         -0.08669714,  0.06203843]], dtype=float32),\n",
       " array([ 0.00039871, -0.0123241 , -0.01476997, -0.01430922, -0.02294664,\n",
       "        -0.0145586 , -0.02945463, -0.04774413, -0.04073612,  0.00755073,\n",
       "         0.00913261, -0.02127509, -0.03764266,  0.01999548, -0.03901815,\n",
       "         0.0184995 , -0.00852363, -0.00927933,  0.00221996, -0.01216199,\n",
       "        -0.01229633,  0.00867503, -0.04125184, -0.00472235,  0.00743086,\n",
       "         0.00559457,  0.0052828 ,  0.01354554, -0.00717104, -0.01247045,\n",
       "        -0.02569618, -0.02908485,  0.01152003, -0.03461226, -0.00822014,\n",
       "        -0.03662437, -0.01753208,  0.00867961, -0.0130372 , -0.0046089 ,\n",
       "        -0.03560633, -0.03750553,  0.0002789 , -0.01278077, -0.0158809 ,\n",
       "        -0.00893391,  0.00467468,  0.01004046, -0.03981604, -0.04150579,\n",
       "         0.0240275 , -0.01395074,  0.00485817, -0.00051772, -0.01451675,\n",
       "        -0.01681734,  0.0204774 , -0.00069392,  0.02844562, -0.00895303,\n",
       "         0.04549786, -0.03346929, -0.03341911, -0.00093384, -0.00865516,\n",
       "        -0.02388499, -0.02728239,  0.01341801,  0.03933762, -0.04629895,\n",
       "        -0.00803424, -0.01270371,  0.00225774, -0.03330721,  0.13878867,\n",
       "        -0.02883346, -0.01134698, -0.00114493, -0.024322  ,  0.00019604,\n",
       "         0.00761089, -0.04592881,  0.02061808,  0.00056771, -0.02564431,\n",
       "         0.01868685, -0.0073733 , -0.01710089,  0.01723029,  0.00479049,\n",
       "         0.02107127,  0.01383472, -0.02788299,  0.00499695, -0.00728112,\n",
       "        -0.03602031,  0.02038025,  0.02138471,  0.03387145, -0.00354635,\n",
       "        -0.01772096, -0.027301  ,  0.00741126,  0.00635049,  0.00249582,\n",
       "        -0.0266395 , -0.04113246, -0.01447837, -0.01630946, -0.03980025,\n",
       "        -0.01701412, -0.02965986, -0.00124222, -0.03642115,  0.00442262,\n",
       "        -0.00023691, -0.01341963, -0.04803601,  0.02990719, -0.04885994,\n",
       "        -0.00525329, -0.01130506, -0.01374702,  0.04371035, -0.02395045,\n",
       "         0.02825828, -0.0310502 , -0.01535682], dtype=float32),\n",
       " array([[-7.43558332e-02],\n",
       "        [-6.80562034e-02],\n",
       "        [-2.38356981e-02],\n",
       "        [ 1.43623695e-01],\n",
       "        [ 1.86369330e-01],\n",
       "        [-2.25674421e-01],\n",
       "        [ 1.84418917e-01],\n",
       "        [ 4.71278699e-03],\n",
       "        [ 1.98721543e-01],\n",
       "        [-1.02761626e-01],\n",
       "        [ 1.86761677e-01],\n",
       "        [ 2.56252289e-01],\n",
       "        [-2.54860014e-01],\n",
       "        [-2.13449031e-01],\n",
       "        [ 1.78815171e-01],\n",
       "        [-6.22159690e-02],\n",
       "        [-1.02655053e-01],\n",
       "        [ 1.93525292e-02],\n",
       "        [-1.65968984e-01],\n",
       "        [-2.55015708e-04],\n",
       "        [ 2.23017633e-01],\n",
       "        [ 2.51328915e-01],\n",
       "        [ 1.23667315e-01],\n",
       "        [ 1.55630514e-01],\n",
       "        [-1.20583057e-01],\n",
       "        [-2.73897439e-01],\n",
       "        [-1.20827138e-01],\n",
       "        [ 6.56724274e-02],\n",
       "        [ 2.55423576e-01],\n",
       "        [-1.63302049e-01],\n",
       "        [ 1.65084571e-01],\n",
       "        [ 1.87086314e-01],\n",
       "        [ 1.62674159e-01],\n",
       "        [ 6.13201857e-02],\n",
       "        [ 5.92438802e-02],\n",
       "        [ 3.67115662e-02],\n",
       "        [ 7.71945249e-03],\n",
       "        [ 2.54932523e-01],\n",
       "        [ 2.08034545e-01],\n",
       "        [-1.41028926e-01],\n",
       "        [-1.30229712e-01],\n",
       "        [ 8.47401619e-02],\n",
       "        [ 4.36298475e-02],\n",
       "        [ 1.45898610e-01],\n",
       "        [-5.43134362e-02],\n",
       "        [ 7.93919638e-02],\n",
       "        [ 1.12959877e-01],\n",
       "        [-2.03862712e-01],\n",
       "        [-1.90456584e-02],\n",
       "        [-1.78247765e-01],\n",
       "        [-9.64159146e-02],\n",
       "        [ 2.05792353e-01],\n",
       "        [-8.54267031e-02],\n",
       "        [ 1.94509983e-01],\n",
       "        [ 2.31606543e-01],\n",
       "        [-1.22494735e-01],\n",
       "        [ 1.11801550e-01],\n",
       "        [ 6.93541467e-02],\n",
       "        [-2.42406949e-01],\n",
       "        [-1.97970927e-01],\n",
       "        [-1.03041396e-01],\n",
       "        [ 1.44847006e-01],\n",
       "        [-1.28342882e-01],\n",
       "        [ 3.28531228e-02],\n",
       "        [-2.92625334e-02],\n",
       "        [ 3.69807519e-02],\n",
       "        [-1.55760258e-01],\n",
       "        [-1.88714430e-01],\n",
       "        [ 1.19805925e-01],\n",
       "        [-1.83141068e-01],\n",
       "        [-1.52120292e-01],\n",
       "        [ 5.25645213e-04],\n",
       "        [-1.75509378e-01],\n",
       "        [ 1.89347476e-01],\n",
       "        [ 1.95798442e-01],\n",
       "        [-2.01802343e-01],\n",
       "        [ 2.00130880e-01],\n",
       "        [ 1.01205692e-01],\n",
       "        [ 1.36381030e-01],\n",
       "        [ 1.04549117e-01],\n",
       "        [-2.53588676e-01],\n",
       "        [-8.69270489e-02],\n",
       "        [ 1.11396432e-01],\n",
       "        [ 2.31778324e-01],\n",
       "        [ 1.34837493e-01],\n",
       "        [-5.76305807e-01],\n",
       "        [ 1.71715438e-01],\n",
       "        [ 1.60110325e-01],\n",
       "        [ 1.57375988e-02],\n",
       "        [-2.44950995e-01],\n",
       "        [-3.31335396e-01],\n",
       "        [-4.22409326e-01],\n",
       "        [-1.92315251e-01],\n",
       "        [ 2.43488967e-01],\n",
       "        [ 3.74731682e-02],\n",
       "        [-1.75152332e-01],\n",
       "        [-1.85485438e-01],\n",
       "        [-2.35521987e-01],\n",
       "        [-2.52997220e-01],\n",
       "        [-2.67537534e-01],\n",
       "        [-1.95549041e-01],\n",
       "        [ 4.05162089e-02],\n",
       "        [ 2.24948600e-02],\n",
       "        [-2.63484299e-01],\n",
       "        [-1.20823547e-01],\n",
       "        [ 1.69314481e-02],\n",
       "        [ 2.62043979e-02],\n",
       "        [ 1.06977239e-01],\n",
       "        [-4.25927527e-02],\n",
       "        [ 3.36449862e-01],\n",
       "        [-2.59551913e-01],\n",
       "        [ 1.90479681e-01],\n",
       "        [-2.01574415e-01],\n",
       "        [ 1.58551022e-01],\n",
       "        [ 6.21215394e-03],\n",
       "        [ 1.91789269e-01],\n",
       "        [-2.21175060e-01],\n",
       "        [ 1.16122045e-01],\n",
       "        [-1.14625894e-01],\n",
       "        [ 2.15892911e-01],\n",
       "        [-1.48234963e-01],\n",
       "        [-2.07157210e-01],\n",
       "        [-2.00347379e-01],\n",
       "        [-1.22224540e-02],\n",
       "        [-5.04786335e-02],\n",
       "        [ 2.45956033e-02],\n",
       "        [ 1.85527176e-01],\n",
       "        [-1.82312012e-01]], dtype=float32),\n",
       " array([-0.22950946], dtype=float32)]"
      ]
     },
     "execution_count": 4,
     "metadata": {},
     "output_type": "execute_result"
    }
   ],
   "source": [
    "model.get_weights()"
   ]
  },
  {
   "cell_type": "code",
   "execution_count": 5,
   "id": "d01fd25f",
   "metadata": {},
   "outputs": [],
   "source": [
    "# Step 2: Helper Functions\n",
    "# Function to decode reviews\n",
    "def decode_review(encoded_review):\n",
    "    return ' '.join([reverse_word_index.get(i - 3, '?') for i in encoded_review])\n",
    "\n",
    "# Function to preprocess user input\n",
    "def preprocess_text(text):\n",
    "    words = text.lower().split()\n",
    "    encoded_review = [word_index.get(word, 2) + 3 for word in words]\n",
    "    padded_review = sequence.pad_sequences([encoded_review], maxlen=500)\n",
    "    return padded_review"
   ]
  },
  {
   "cell_type": "code",
   "execution_count": 6,
   "id": "258c8368",
   "metadata": {},
   "outputs": [],
   "source": [
    "### Prediction  function\n",
    "\n",
    "def predict_sentiment(review):\n",
    "    preprocessed_input=preprocess_text(review)\n",
    "\n",
    "    prediction=model.predict(preprocessed_input)\n",
    "\n",
    "    sentiment = 'Positive' if prediction[0][0] > 0.5 else 'Negative'\n",
    "    \n",
    "    return sentiment, prediction[0][0]\n",
    "\n"
   ]
  },
  {
   "cell_type": "code",
   "execution_count": 7,
   "id": "2336815b",
   "metadata": {},
   "outputs": [
    {
     "name": "stdout",
     "output_type": "stream",
     "text": [
      "\u001b[1m1/1\u001b[0m \u001b[32m━━━━━━━━━━━━━━━━━━━━\u001b[0m\u001b[37m\u001b[0m \u001b[1m0s\u001b[0m 111ms/step\n",
      "Review: This movie was fantastic! The acting was great and the plot was thrilling.\n",
      "Sentiment: Positive\n",
      "Prediction Score: 0.8304991722106934\n"
     ]
    }
   ],
   "source": [
    "# Step 4: User Input and Prediction\n",
    "# Example review for prediction\n",
    "example_review = \"This movie was fantastic! The acting was great and the plot was thrilling.\"\n",
    "\n",
    "sentiment,score=predict_sentiment(example_review)\n",
    "\n",
    "print(f'Review: {example_review}')\n",
    "print(f'Sentiment: {sentiment}')\n",
    "print(f'Prediction Score: {score}')"
   ]
  },
  {
   "cell_type": "code",
   "execution_count": null,
   "id": "d6edba88",
   "metadata": {},
   "outputs": [],
   "source": []
  }
 ],
 "metadata": {
  "kernelspec": {
   "display_name": ".venv",
   "language": "python",
   "name": "python3"
  },
  "language_info": {
   "codemirror_mode": {
    "name": "ipython",
    "version": 3
   },
   "file_extension": ".py",
   "mimetype": "text/x-python",
   "name": "python",
   "nbconvert_exporter": "python",
   "pygments_lexer": "ipython3",
   "version": "3.12.11"
  }
 },
 "nbformat": 4,
 "nbformat_minor": 5
}
